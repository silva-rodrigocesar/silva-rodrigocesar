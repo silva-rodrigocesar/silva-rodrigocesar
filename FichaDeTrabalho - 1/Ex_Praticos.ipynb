{
 "cells": [
  {
   "cell_type": "markdown",
   "metadata": {},
   "source": [
    "1. Crie uma variável do tipo int, aplicando o método de atribuição direto"
   ]
  },
  {
   "cell_type": "code",
   "execution_count": 4,
   "metadata": {},
   "outputs": [],
   "source": [
    "numero = 10\n"
   ]
  },
  {
   "cell_type": "markdown",
   "metadata": {},
   "source": [
    "2. Crie uma variavél do tipo str, usando o metodo casting."
   ]
  },
  {
   "cell_type": "code",
   "execution_count": 5,
   "metadata": {},
   "outputs": [],
   "source": [
    "nome = str(\"João\")\n"
   ]
  },
  {
   "cell_type": "markdown",
   "metadata": {},
   "source": [
    "3. Faça a conversão de uma variável do tipo float para str, e faça o output do tipo de\n",
    "varável final. "
   ]
  },
  {
   "cell_type": "code",
   "execution_count": 6,
   "metadata": {},
   "outputs": [
    {
     "name": "stdout",
     "output_type": "stream",
     "text": [
      "<class 'str'>\n"
     ]
    }
   ],
   "source": [
    "preco = 10.5\n",
    "preco_str = str(preco)\n",
    "print(type(preco_str))\n"
   ]
  },
  {
   "cell_type": "markdown",
   "metadata": {},
   "source": [
    "4. Identifique quais os tipos de variáveis são corretos:\n",
    "\n",
    "A) hello_world = 2\n",
    "\n",
    "C) Hello_World = 2\n",
    "\n",
    "F) helloWorld = 2"
   ]
  },
  {
   "cell_type": "markdown",
   "metadata": {},
   "source": [
    "5. Faça um programa que o utilizador introduz o seu nome, e no output apresenta o mesmo e o tipo da variável que o seu nome ficou atribuido."
   ]
  },
  {
   "cell_type": "code",
   "execution_count": 7,
   "metadata": {},
   "outputs": [
    {
     "name": "stdout",
     "output_type": "stream",
     "text": [
      "Seu nome é: Astolfo\n",
      "O tipo de variável para o seu nome é: <class 'str'>\n"
     ]
    }
   ],
   "source": [
    "nome = input(\"Digite o seu nome: \")\n",
    "print(\"Seu nome é:\", nome)\n",
    "print(\"O tipo de variável para o seu nome é:\", type(nome))\n"
   ]
  },
  {
   "cell_type": "markdown",
   "metadata": {},
   "source": [
    "6. Atribua o mesmo elemento a três variáveis distintas, usando apenas uma linha de comando."
   ]
  },
  {
   "cell_type": "code",
   "execution_count": 11,
   "metadata": {},
   "outputs": [],
   "source": [
    "a = b = c = \"elemento\"\n"
   ]
  },
  {
   "cell_type": "markdown",
   "metadata": {},
   "source": [
    "7. Crie cinco variáveis do tipo str e coloque um output que apresente as mesmas,\n",
    "uma em cada linha."
   ]
  },
  {
   "cell_type": "code",
   "execution_count": 12,
   "metadata": {},
   "outputs": [
    {
     "name": "stdout",
     "output_type": "stream",
     "text": [
      "Olá\n",
      "Mundo\n",
      "Eu\n",
      "sou\n",
      "um programa\n"
     ]
    }
   ],
   "source": [
    "var1 = \"Olá\"\n",
    "var2 = \"Mundo\"\n",
    "var3 = \"Eu\"\n",
    "var4 = \"sou\"\n",
    "var5 = \"um programa\"\n",
    "\n",
    "print(var1)\n",
    "print(var2)\n",
    "print(var3)\n",
    "print(var4)\n",
    "print(var5)\n"
   ]
  },
  {
   "cell_type": "markdown",
   "metadata": {},
   "source": [
    "8. Atribua três numeros distintos a três variáveis distintas, usando apenas uma linha de comando. Coloque um output que apresente a soma dessas três variáveis."
   ]
  },
  {
   "cell_type": "code",
   "execution_count": 8,
   "metadata": {},
   "outputs": [
    {
     "name": "stdout",
     "output_type": "stream",
     "text": [
      "A soma de a, b e c é: 20\n"
     ]
    }
   ],
   "source": [
    "a, b, c = 3, 7, 10\n",
    "print(\"A soma de a, b e c é:\", a + b + c)\n"
   ]
  },
  {
   "cell_type": "markdown",
   "metadata": {},
   "source": [
    "9. Faça um programa que o utilizador introduz os seguintes dados:\n",
    "- Primeiro Nome (str)\n",
    "- Ultimo Nome (str)\n",
    "- Idade (int)\n",
    "- Peso (float)\n",
    "Apresente estes valores, com a formatação adequada para cada tipo de variável,\n",
    "num unico output, com a disposição acima representada."
   ]
  },
  {
   "cell_type": "code",
   "execution_count": 9,
   "metadata": {},
   "outputs": [
    {
     "name": "stdout",
     "output_type": "stream",
     "text": [
      "Nome completo: Dutra Peixoto\n",
      "Idade: 25 anos\n",
      "Peso: 75.00 kg\n"
     ]
    }
   ],
   "source": [
    "primeiro_nome = input(\"Digite o seu primeiro nome: \")\n",
    "ultimo_nome = input(\"Digite o seu último nome: \")\n",
    "idade = int(input(\"Digite a sua idade: \"))\n",
    "peso = float(input(\"Digite o seu peso: \"))\n",
    "\n",
    "print(\"Nome completo: {} {}\".format(primeiro_nome, ultimo_nome))\n",
    "print(\"Idade: {} anos\".format(idade))\n",
    "print(\"Peso: {:.2f} kg\".format(peso))\n"
   ]
  },
  {
   "cell_type": "markdown",
   "metadata": {},
   "source": [
    "10. Crie uma lista de valores introduzidos pelo utilizador, e apresente um output de\n",
    "um dos elementos introduzidos"
   ]
  },
  {
   "cell_type": "code",
   "execution_count": 10,
   "metadata": {},
   "outputs": [
    {
     "name": "stdout",
     "output_type": "stream",
     "text": [
      "Um dos elementos da lista é: 3\n"
     ]
    }
   ],
   "source": [
    "# Solicita ao usuário que insira os valores separados por espaço\n",
    "valores = input(\"Digite os valores separados por espaço: \")\n",
    "\n",
    "# Converte a string de entrada em uma lista de valores\n",
    "lista_valores = valores.split()\n",
    "\n",
    "# Imprime um dos elementos da lista (neste exemplo, o primeiro)\n",
    "print(\"Um dos elementos da lista é:\", lista_valores[0])\n"
   ]
  },
  {
   "cell_type": "markdown",
   "metadata": {},
   "source": [
    "### 7. Crie cinco variáveis do tipo str e coloque um output que apresente as mesmas, uma em cada linha."
   ]
  },
  {
   "cell_type": "code",
   "execution_count": 1,
   "metadata": {},
   "outputs": [
    {
     "name": "stdout",
     "output_type": "stream",
     "text": [
      "Olá, mundo!\n",
      "Python é incrível!\n",
      "Estou aprendendo programação\n",
      "Vamos codar juntos?\n",
      "A vida é bela\n"
     ]
    }
   ],
   "source": [
    "var1 = \"Olá, mundo!\"\n",
    "var2 = \"Python é incrível!\"\n",
    "var3 = \"Estou aprendendo programação\"\n",
    "var4 = \"Vamos codar juntos?\"\n",
    "var5 = \"A vida é bela\"\n",
    "\n",
    "print(var1)\n",
    "print(var2)\n",
    "print(var3)\n",
    "print(var4)\n",
    "print(var5)\n"
   ]
  },
  {
   "cell_type": "markdown",
   "metadata": {},
   "source": [
    "### 8. Atribua três numeros distintos a três variáveis distintas, usando apenas uma linha de comando. Coloque um output que apresente a soma dessas três variáveis."
   ]
  },
  {
   "cell_type": "code",
   "execution_count": 2,
   "metadata": {},
   "outputs": [
    {
     "name": "stdout",
     "output_type": "stream",
     "text": [
      "30\n"
     ]
    }
   ],
   "source": [
    "num1, num2, num3 = 5, 10, 15\n",
    "print(num1 + num2 + num3)\n"
   ]
  },
  {
   "cell_type": "markdown",
   "metadata": {},
   "source": [
    "#### 9. Faça um programa que o utilizador introduz os seguintes dados:\n",
    "##### - Primeiro Nome (str)\n",
    "##### - Ultimo Nome (str)\n",
    "##### - Idade (int)\n",
    "##### - Peso (float)\n",
    "#### Apresente estes valores, com a formatação adequada para cada tipo de variável, num unico output, com a disposição acima representada.\n"
   ]
  },
  {
   "cell_type": "code",
   "execution_count": 3,
   "metadata": {},
   "outputs": [
    {
     "name": "stdout",
     "output_type": "stream",
     "text": [
      "Primeiro nome: Rodrigo\n",
      "Último nome: Oliveira\n",
      "Idade: 33\n",
      "Peso: 1.75\n"
     ]
    }
   ],
   "source": [
    "primeiro_nome = input(\"Digite seu primeiro nome: \")\n",
    "ultimo_nome = input(\"Digite seu último nome: \")\n",
    "idade = int(input(\"Digite sua idade: \"))\n",
    "peso = float(input(\"Digite seu peso: \"))\n",
    "\n",
    "print(f\"Primeiro nome: {primeiro_nome}\\nÚltimo nome: {ultimo_nome}\\nIdade: {idade}\\nPeso: {peso}\")\n"
   ]
  },
  {
   "cell_type": "markdown",
   "metadata": {},
   "source": [
    "# Segunda Fase - Exercícios 10 a 17"
   ]
  },
  {
   "cell_type": "markdown",
   "metadata": {},
   "source": [
    "### 10. Crie uma lista de valores introduzidos pelo utilizador, e apresente um output de um dos elementos introduzidos"
   ]
  },
  {
   "cell_type": "code",
   "execution_count": 4,
   "metadata": {},
   "outputs": [
    {
     "name": "stdout",
     "output_type": "stream",
     "text": [
      "50\n"
     ]
    }
   ],
   "source": [
    "# Solicita ao usuário que insira os valores separados por espaço\n",
    "valores = input(\"Digite os valores separados por espaço: \")\n",
    "\n",
    "# Converte a string de entrada em uma lista de valores\n",
    "lista_valores = valores.split()\n",
    "\n",
    "# Apresenta o segundo elemento da lista (índice 1)\n",
    "print(lista_valores[1])\n"
   ]
  },
  {
   "cell_type": "markdown",
   "metadata": {},
   "source": [
    "11. Crie dicionários de 5 pessoas com os seguintes dados:\n",
    "- Nome\n",
    "- idade\n",
    "- profissão\n",
    "\n",
    "Crie um output com que apresente os dados de uma pessoa, em que o utilizador\n",
    "introduz o seu nome."
   ]
  },
  {
   "cell_type": "code",
   "execution_count": 6,
   "metadata": {},
   "outputs": [
    {
     "name": "stdout",
     "output_type": "stream",
     "text": [
      "Nome: Lucas\n",
      "Idade: 28\n",
      "Profissão: Programador\n"
     ]
    }
   ],
   "source": [
    "# Cria o dicionário de pessoas\n",
    "pessoas = [\n",
    "    {\"nome\": \"João\", \"idade\": 30, \"profissão\": \"Engenheiro\"},\n",
    "    {\"nome\": \"Maria\", \"idade\": 25, \"profissão\": \"Advogada\"},\n",
    "    {\"nome\": \"Pedro\", \"idade\": 40, \"profissão\": \"Médico\"},\n",
    "    {\"nome\": \"Ana\", \"idade\": 35, \"profissão\": \"Professor\"},\n",
    "    {\"nome\": \"Lucas\", \"idade\": 28, \"profissão\": \"Programador\"}\n",
    "]\n",
    "\n",
    "# Solicita ao usuário que insira o nome da pessoa que deseja visualizar os dados\n",
    "nome = input(\"Digite o nome da pessoa que deseja visualizar os dados: \")\n",
    "\n",
    "# Busca os dados da pessoa com base no nome informado\n",
    "for pessoa in pessoas:\n",
    "    if pessoa[\"nome\"].lower() == nome.lower():\n",
    "        print(f\"Nome: {pessoa['nome']}\\nIdade: {pessoa['idade']}\\nProfissão: {pessoa['profissão']}\")\n",
    "        break\n",
    "else:\n",
    "    print(\"Pessoa não encontrada.\")\n"
   ]
  },
  {
   "cell_type": "markdown",
   "metadata": {},
   "source": [
    "12. Crie a seguinte variável do tipo String: FormaçãodePythonéespetacular\n",
    "\n",
    "Crie um output que apresente a frase com os espaçamentos corretos."
   ]
  },
  {
   "cell_type": "code",
   "execution_count": 8,
   "metadata": {},
   "outputs": [
    {
     "name": "stdout",
     "output_type": "stream",
     "text": [
      "Fo rm aç ão de py th on ée sp et ac ul ar\n"
     ]
    }
   ],
   "source": [
    "frase = \"FormaçãodePythonéespetacular\"\n",
    "\n",
    "# Separa a frase em palavras, considerando que cada palavra começa com uma letra maiúscula\n",
    "palavras = [frase[i:i+1].lower() if i != 0 else frase[i:i+1] for i in range(len(frase))]\n",
    "palavras = [\"\".join(palavras[i:i+2]) for i in range(0, len(palavras), 2)]\n",
    "\n",
    "# Apresenta a frase com espaçamentos corretos\n",
    "frase_com_espacos = \" \".join(palavras)\n",
    "print(frase_com_espacos)\n"
   ]
  },
  {
   "cell_type": "markdown",
   "metadata": {},
   "source": [
    "13. A partir dos dicionários criados na pergunta 11, crie uma lista com as idades contidas.\n"
   ]
  },
  {
   "cell_type": "code",
   "execution_count": 9,
   "metadata": {},
   "outputs": [
    {
     "name": "stdout",
     "output_type": "stream",
     "text": [
      "[30, 25, 40, 35, 28]\n"
     ]
    }
   ],
   "source": [
    "# Cria o dicionário de pessoas\n",
    "pessoas = [\n",
    "    {\"nome\": \"João\", \"idade\": 30, \"profissão\": \"Engenheiro\"},\n",
    "    {\"nome\": \"Maria\", \"idade\": 25, \"profissão\": \"Advogada\"},\n",
    "    {\"nome\": \"Pedro\", \"idade\": 40, \"profissão\": \"Médico\"},\n",
    "    {\"nome\": \"Ana\", \"idade\": 35, \"profissão\": \"Professor\"},\n",
    "    {\"nome\": \"Lucas\", \"idade\": 28, \"profissão\": \"Programador\"}\n",
    "]\n",
    "\n",
    "# Cria uma lista com as idades das pessoas\n",
    "idades = [pessoa[\"idade\"] for pessoa in pessoas]\n",
    "\n",
    "# Apresenta a lista de idades\n",
    "print(idades)\n"
   ]
  },
  {
   "cell_type": "markdown",
   "metadata": {},
   "source": [
    "14. Crie um programa que faça uma operação de multiplicação entre dois numeros introduzidos pelo utilizador e apresente o resultado."
   ]
  },
  {
   "cell_type": "code",
   "execution_count": 10,
   "metadata": {},
   "outputs": [
    {
     "name": "stdout",
     "output_type": "stream",
     "text": [
      "O resultado da multiplicação é: 2500\n"
     ]
    }
   ],
   "source": [
    "# Solicita ao usuário que insira os dois números inteiros\n",
    "numero1 = int(input(\"Digite o primeiro número inteiro: \"))\n",
    "numero2 = int(input(\"Digite o segundo número inteiro: \"))\n",
    "\n",
    "# Realiza a operação de multiplicação entre os dois números\n",
    "resultado = numero1 * numero2\n",
    "\n",
    "# Apresenta o resultado da operação\n",
    "print(f\"O resultado da multiplicação é: {resultado}\")\n"
   ]
  },
  {
   "cell_type": "markdown",
   "metadata": {},
   "source": [
    "15. Desenvolva um programa que apresente se um numero introduzido pelo utilizador é par ou impar."
   ]
  },
  {
   "cell_type": "code",
   "execution_count": 11,
   "metadata": {},
   "outputs": [
    {
     "name": "stdout",
     "output_type": "stream",
     "text": [
      "O número é par.\n"
     ]
    }
   ],
   "source": [
    "# Solicita ao usuário que insira um número inteiro\n",
    "numero = int(input(\"Digite um número inteiro: \"))\n",
    "\n",
    "# Verifica se o número é par ou ímpar\n",
    "if numero % 2 == 0:\n",
    "    print(\"O número é par.\")\n",
    "else:\n",
    "    print(\"O número é ímpar.\")\n"
   ]
  },
  {
   "cell_type": "markdown",
   "metadata": {},
   "source": [
    "16. Verifique se nos dicionários criados na pregunta 11, existe o nome João."
   ]
  },
  {
   "cell_type": "code",
   "execution_count": 12,
   "metadata": {},
   "outputs": [
    {
     "name": "stdout",
     "output_type": "stream",
     "text": [
      "O nome João foi encontrado nos dicionários.\n"
     ]
    }
   ],
   "source": [
    "# Cria o dicionário de pessoas\n",
    "pessoas = [\n",
    "    {\"nome\": \"João\", \"idade\": 30, \"profissão\": \"Engenheiro\"},\n",
    "    {\"nome\": \"Maria\", \"idade\": 25, \"profissão\": \"Advogada\"},\n",
    "    {\"nome\": \"Pedro\", \"idade\": 40, \"profissão\": \"Médico\"},\n",
    "    {\"nome\": \"Ana\", \"idade\": 35, \"profissão\": \"Professor\"},\n",
    "    {\"nome\": \"Lucas\", \"idade\": 28, \"profissão\": \"Programador\"}\n",
    "]\n",
    "\n",
    "# Verifica se existe o nome \"João\" nos dicionários\n",
    "for pessoa in pessoas:\n",
    "    if pessoa[\"nome\"] == \"João\":\n",
    "        print(\"O nome João foi encontrado nos dicionários.\")\n",
    "        break\n",
    "else:\n",
    "    print(\"O nome João não foi encontrado nos dicionários.\")\n"
   ]
  },
  {
   "cell_type": "markdown",
   "metadata": {},
   "source": [
    "17. Se o utilizador introduzir 3 numeros, verifique todas as seguintes condições:\n",
    "- É maior do que zero\n",
    "- É menor ou igual a 10\n",
    "- É diferente de 7"
   ]
  },
  {
   "cell_type": "code",
   "execution_count": null,
   "metadata": {},
   "outputs": [],
   "source": [
    "17. Se o utilizador introduzir 3 numeros, verifique todas as seguintes condições:\n",
    "- É maior do que zero\n",
    "- É menor ou igual a 10\n",
    "- É diferente de 7"
   ]
  },
  {
   "cell_type": "code",
   "execution_count": 17,
   "metadata": {},
   "outputs": [
    {
     "name": "stdout",
     "output_type": "stream",
     "text": [
      "O número 6.0 atende todas as condições.\n",
      "O número 6.0 atende todas as condições.\n",
      "O número 6.0 atende todas as condições.\n"
     ]
    }
   ],
   "source": [
    "# Solicita ao usuário que insira três números\n",
    "numero1 = float(input(\"Digite o primeiro número: \"))\n",
    "numero2 = float(input(\"Digite o segundo número: \"))\n",
    "numero3 = float(input(\"Digite o terceiro número: \"))\n",
    "\n",
    "# Verifica as condições para cada número\n",
    "if numero1 > 0 and numero1 <= 10 and numero1 != 7:\n",
    "    print(f\"O número {numero1} atende todas as condições.\")\n",
    "else:\n",
    "    print(f\"O número {numero1} não atende todas as condições.\")\n",
    "\n",
    "if numero2 > 0 and numero2 <= 10 and numero2 != 7:\n",
    "    print(f\"O número {numero2} atende todas as condições.\")\n",
    "else:\n",
    "    print(f\"O número {numero2} não atende todas as condições.\")\n",
    "\n",
    "if numero3 > 0 and numero3 <= 10 and numero3 != 7:\n",
    "    print(f\"O número {numero3} atende todas as condições.\")\n",
    "else:\n",
    "    print(f\"O número {numero3} não atende todas as condições.\")\n"
   ]
  }
 ],
 "metadata": {
  "kernelspec": {
   "display_name": "base",
   "language": "python",
   "name": "python3"
  },
  "language_info": {
   "codemirror_mode": {
    "name": "ipython",
    "version": 3
   },
   "file_extension": ".py",
   "mimetype": "text/x-python",
   "name": "python",
   "nbconvert_exporter": "python",
   "pygments_lexer": "ipython3",
   "version": "3.11.4"
  },
  "orig_nbformat": 4
 },
 "nbformat": 4,
 "nbformat_minor": 2
}
